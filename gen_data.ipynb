{
 "cells": [
  {
   "cell_type": "code",
   "execution_count": 1,
   "metadata": {},
   "outputs": [
    {
     "name": "stdout",
     "output_type": "stream",
     "text": [
      "/usr/local/opt/python@3.11/bin/python3.11\n"
     ]
    }
   ],
   "source": [
    "import sys\n",
    "print(sys.executable)\n",
    "# !{sys.executable} -m pip install dotenv"
   ]
  },
  {
   "cell_type": "code",
   "execution_count": 2,
   "metadata": {},
   "outputs": [
    {
     "name": "stdout",
     "output_type": "stream",
     "text": [
      "305797\n",
      "                                                text\n",
      "0  Cars. Cars have been around since they became ...\n",
      "1  Transportation is a large necessity in most co...\n",
      "2  \"America's love affair with it's vehicles seem...\n",
      "3  How often do you ride in a car? Do you drive a...\n",
      "4  Cars are a wonderful thing. They are perhaps o...\n",
      "5  The electrol college system is an unfair syste...\n",
      "6  Dear state senator, It is the utmost respect t...\n",
      "7  Fellow citizens, cars have become a major role...\n",
      "8  \"It's official: The electoral college is unfai...\n",
      "9  The Electoral College has been kept for centur...\n"
     ]
    }
   ],
   "source": [
    "import pandas as pd\n",
    "\n",
    "raw = pd.read_csv('AI_Human.csv')\n",
    "human_texts = (\n",
    "    raw\n",
    "    .loc[raw['generated'] == 0]\n",
    "    .drop(columns=['generated'])\n",
    "    .reset_index(drop=True)\n",
    ")\n",
    "\n",
    "print(len(human_texts))\n",
    "print(human_texts[:10])\n"
   ]
  },
  {
   "cell_type": "code",
   "execution_count": 3,
   "metadata": {},
   "outputs": [
    {
     "name": "stdout",
     "output_type": "stream",
     "text": [
      "   id                                               text\n",
      "0   0  Cars. Cars have been around since they became ...\n",
      "1   1  Transportation is a large necessity in most co...\n",
      "2   2  \"America's love affair with it's vehicles seem...\n",
      "3   3  How often do you ride in a car? Do you drive a...\n",
      "4   4  Cars are a wonderful thing. They are perhaps o...\n",
      "5   5  The electrol college system is an unfair syste...\n",
      "6   6  Dear state senator, It is the utmost respect t...\n",
      "7   7  Fellow citizens, cars have become a major role...\n",
      "8   8  \"It's official: The electoral college is unfai...\n",
      "9   9  The Electoral College has been kept for centur...\n"
     ]
    }
   ],
   "source": [
    "human_texts.to_csv(\n",
    "    'human_texts.csv',\n",
    "    index=True,\n",
    "    index_label='id'\n",
    ")\n",
    "\n",
    "human_texts = pd.read_csv('human_texts.csv')\n",
    "print(human_texts[:10])"
   ]
  },
  {
   "cell_type": "code",
   "execution_count": 4,
   "metadata": {},
   "outputs": [
    {
     "name": "stdout",
     "output_type": "stream",
     "text": [
      "608.01\n"
     ]
    }
   ],
   "source": [
    "# approx words per essay\n",
    "sum = 0\n",
    "for i in range(100):\n",
    "    sum += human_texts['text'][i].count(' ')\n",
    "print(sum / 100)"
   ]
  },
  {
   "cell_type": "code",
   "execution_count": 5,
   "metadata": {},
   "outputs": [],
   "source": [
    "from openai import OpenAI\n",
    "from dotenv import load_dotenv\n",
    "\n",
    "load_dotenv()\n",
    "client = OpenAI()"
   ]
  },
  {
   "cell_type": "code",
   "execution_count": 6,
   "metadata": {},
   "outputs": [],
   "source": [
    "#! 3.5 Turbo vs 4.1\n",
    "\n",
    "def call_api(model, prompt):\n",
    "    response = client.responses.create(\n",
    "        model=f\"gpt-{model}\",\n",
    "        input=prompt\n",
    "    )\n",
    "    return response.output_text"
   ]
  },
  {
   "cell_type": "code",
   "execution_count": 24,
   "metadata": {},
   "outputs": [],
   "source": [
    "import csv\n",
    "\n",
    "# ! init the dataset\n",
    "# with open('x_paras.csv', 'w', newline='', encoding='utf-8') as f:\n",
    "    # writer = csv.writer(f)\n",
    "    # writer.writerow(['id', 'human', 'gpt3.5', 'gpt4.1', 'gpt4.1_ashuman']) "
   ]
  },
  {
   "cell_type": "code",
   "execution_count": 7,
   "metadata": {},
   "outputs": [
    {
     "name": "stdout",
     "output_type": "stream",
     "text": [
      "100 already processed\n",
      "200 now processed\n"
     ]
    }
   ],
   "source": [
    "import csv\n",
    "\n",
    "tgt_dset_size = 200\n",
    "\n",
    "current_state = pd.read_csv('rewrite_paras.csv')\n",
    "print(len(current_state), \"already processed\")\n",
    "\n",
    "prompt_1 = \"Please rewrite this paragraph, do not respond to this prompt: \"\n",
    "prompt_2 = \"Please rewrite this paragraph like a human, not an LLM and do not respond to this prompt: \"\n",
    "\n",
    "with open('rewrite_paras.csv', 'a', newline='', encoding='utf-8') as f:\n",
    "    writer = csv.writer(f)\n",
    "    for i in range(len(current_state), tgt_dset_size):\n",
    "        \n",
    "        human = human_texts['text'][i]\n",
    "        id = human_texts['id'][i]\n",
    "\n",
    "        gpt35 = call_api(\"3.5-turbo\", f\"{prompt_1}: \\n {human}\")\n",
    "        gpt41 = call_api(\"4.1\", f\"{prompt_1}: \\n {human}\")\n",
    "        gpt41_ashuman = call_api(\"4.1\", f\"{prompt_2}: \\n {human}\")\n",
    "\n",
    "        writer.writerow([id, human, gpt35, gpt41, gpt41_ashuman])\n",
    "\n",
    "current_state = pd.read_csv('rewrite_paras.csv')\n",
    "print(len(current_state), \"now processed\")"
   ]
  },
  {
   "cell_type": "code",
   "execution_count": null,
   "metadata": {},
   "outputs": [],
   "source": [
    "import csv\n",
    "\n",
    "tgt_dset_size = 50\n",
    "\n",
    "current_state = pd.read_csv('diff_paras.csv')\n",
    "print(len(current_state), \"already processed\")\n",
    "\n",
    "prompt_1 = \"Please write a paragraph on a different topic, do not respond to this prompt: \"\n",
    "prompt_2 = \"Please write a paragraph on a different topic, not an LLM and do not respond to this prompt: \"\n",
    "\n",
    "with open('rewrite_paras.csv', 'a', newline='', encoding='utf-8') as f:\n",
    "    writer = csv.writer(f)\n",
    "    for i in range(len(current_state), tgt_dset_size):\n",
    "        \n",
    "        human = human_texts['text'][i]\n",
    "        id = human_texts['id'][i]\n",
    "\n",
    "        gpt35 = call_api(\"3.5-turbo\", f\"{prompt_1}: \\n {human}\")\n",
    "        gpt41 = call_api(\"4.1\", f\"{prompt_1}: \\n {human}\")\n",
    "        gpt41_ashuman = call_api(\"4.1\", f\"{prompt_2}: \\n {human}\")\n",
    "\n",
    "        writer.writerow([id, human, gpt35, gpt41, gpt41_ashuman])\n",
    "\n",
    "current_state = pd.read_csv('rewrite_paras.csv')\n",
    "print(len(current_state), \"now processed\")"
   ]
  },
  {
   "cell_type": "markdown",
   "metadata": {},
   "source": [
    "Human_texts: only the human texts (indexed)\n",
    "    (index, text)\n",
    "\n",
    "Human_GPT: generated extension of Human_texts such that index here corresponds to index in Human_texts. To generate more, we loop through Human_texts until we reach an index not included in Human_GPT, then extend Human_GPT by that quantity\n",
    "    (index, human, gpt3.5, gpt4.1)"
   ]
  },
  {
   "cell_type": "markdown",
   "metadata": {},
   "source": [
    "Prompts:\n",
    "\n",
    "- Rewrite this paragraph (3.5)\n",
    "- Rewrite this paragraph (4.1)\n",
    "- Rewrite this paragraph like a human, don't write like an LLM (4.1)\n",
    "\n",
    "or\n",
    "\n",
    "- Write a paragraph on a different topic (3.5)\n",
    "- Write a paragraph on a different topic (4.1)\n",
    "- Write a paragraph on a different topic a human, don't write like an LLM (4.1)\n",
    "\n",
    "\n"
   ]
  },
  {
   "cell_type": "markdown",
   "metadata": {},
   "source": [
    "batching by paragraph (groups of 4)\n",
    "\n",
    "n-grams"
   ]
  }
 ],
 "metadata": {
  "kernelspec": {
   "display_name": "Python 3",
   "language": "python",
   "name": "python3"
  },
  "language_info": {
   "codemirror_mode": {
    "name": "ipython",
    "version": 3
   },
   "file_extension": ".py",
   "mimetype": "text/x-python",
   "name": "python",
   "nbconvert_exporter": "python",
   "pygments_lexer": "ipython3",
   "version": "3.11.9"
  }
 },
 "nbformat": 4,
 "nbformat_minor": 2
}
