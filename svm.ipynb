{
 "cells": [
  {
   "cell_type": "markdown",
   "metadata": {},
   "source": [
    "## Stat Learning Final Project: "
   ]
  },
  {
   "cell_type": "markdown",
   "metadata": {},
   "source": [
    "STAT218 - Alex Lyford - 5/20/25\n",
    "\n",
    "Liam Patty, Julian Sandoval, Patrick Connolly"
   ]
  },
  {
   "cell_type": "markdown",
   "metadata": {},
   "source": [
    "#### Research Question: Can an SVM model accurately classify human writing vs. LLM generated text?"
   ]
  },
  {
   "cell_type": "markdown",
   "metadata": {},
   "source": [
    "#### What is SVM?"
   ]
  },
  {
   "cell_type": "markdown",
   "metadata": {},
   "source": [
    "Support Vector Machines (SVMs) are a specific type of supervised machine learning algorithm that classifies data by \n",
    "splitting it with high dimensional hyperplanes in a way that maximizes the margin between different classes. The optimal hyperplane is found by minizing the equation `(1/margin) + λ * ∑(penalty)`, where margin is the distance from the splitting hyperplane to the nearest datapoints and penalty is a loss function that scores outliers or misclassified datapoints. To minimize this equation, the hyperplane will be optimized in such a away that we maximize margin and minimize missed datapoints. Lambda (λ) is simply a hyperparameter that allows the model developer to tweak the relative weighting of the two optimization goals with respect to each other.\n",
    "\n",
    "When the data is not linearly separable, we implement kernel functions to map the input data to a higher-dimensional feature space where it may be."
   ]
  },
  {
   "cell_type": "markdown",
   "metadata": {},
   "source": [
    "![kernel_ex](image.png \"Reference image\")"
   ]
  },
  {
   "cell_type": "markdown",
   "metadata": {},
   "source": [
    "img src: https://medium.com/@abhishekjainindore24/svm-kernels-and-its-type-dfc3d5f2dcd8 "
   ]
  },
  {
   "cell_type": "markdown",
   "metadata": {},
   "source": [
    "It is important to note that the kernel does not actually perform the mappings and instead computes the similarity between these data points in the higher-dimensional space to inform the hyper-plane optimizations. This allows SVM models to handle non-linear relationships efficiently and effectively. The most common kernel functions for SVM are linear, polynomial, radial basis, and sigmoid:\n",
    "\n",
    "- The linear kernel, the most simple, is used when the data is already linearly separable, eliminating the need for a transformation to be applied. Essentially equivalent to not applying a kernal at all.\n",
    "\n",
    "- The polynomial kernel uses a higher-degree mapping that allows for more flexible, curved, and complex decision boundaries which can capture more feature interactions and relationships between datapoints. However, there is a risk of overfitting the training data with high-degree polynomials as they can be too flexible. \n",
    "\n",
    "- The radial basis function (RBF) can handle even more complex non-linear relationships as it maps into an infinite multi-dimentional space. The equation for RBF is `K(X1, X2) = exp(-(||X1 - X2||^2)/2σ^2)`. RBF is effective in high-dimensional spaces, though it can be computationally expensive and requires careful tuning of the σ parameter. \n",
    "\n",
    "\n",
    "References:\n",
    "\n",
    "https://medium.com/@abhishekjainindore24/svm-kernels-and-its-type-dfc3d5f2dcd8 \n",
    "\n",
    "https://www.geeksforgeeks.org/major-kernel-functions-in-support-vector-machine-svm/ "
   ]
  },
  {
   "cell_type": "markdown",
   "metadata": {},
   "source": [
    "#### What sort of data are we using?"
   ]
  },
  {
   "cell_type": "markdown",
   "metadata": {},
   "source": [
    "Our dataset includes 487,000 essays from a variety of human-written sources. We sourced this dataset from Kaggle. Each essay contains roughly 600 words. To compare them with AI-generated text, we will take a sample of 200 of these essays and rewrite each one using two different large language models - GPT 3.5 and GPT 4.1 - through the OpenAI API. We will then create a three new versions of each essay: a GPT 3.5 rewrite, GPT 4.1 rewrite, and a version where we prompt GPT 4.1 to rewrite the paragraph \"like a human, not an LLM.\" We then use these labeled texts to train our model to classify which text generation method was used to write each paragraph (human, gpt3.5, gpt4.1, gpt4.1_asHuman).\n",
    "\n",
    "Dataset reference: https://www.kaggle.com/datasets/shanegerami/ai-vs-human-text "
   ]
  },
  {
   "cell_type": "markdown",
   "metadata": {},
   "source": [
    "#### Why will SVM work with our data?"
   ]
  },
  {
   "cell_type": "markdown",
   "metadata": {},
   "source": [
    "\n",
    "Using the findings from Joachims (1998), our dataset and classification model are a strong match for SVMs because of the way text data is structured. Joachims showed that SVMs are especially effective at text classification, which shows promise for our task of sorting writing samples into categories by generation method. SVMs are known to perform well when working with data that is high-dimensional and sparse. \n",
    "\n",
    "High-dimensional means that each piece of writing is described by a very large number of features. Within our context of text classification, a feature is simply a word and the value is its occurrence count in the text. When learning text classifiers, one often has to deal with very many (more than 10000) features. SVMs avoid overfitting by splitting the feature space only on the most important data points, i.e. the ones closest to the dividing line between classes. Rather than trying to fit every small detail in the data, the model finds the simplest and clearest boundary to separate on. This makes SVMs especially useful for text data, where there are often thousands of features, because they don’t need to rely on all of them and instead automatically use the most relevant to inform optimization. As a result, SVMs can handle large feature spaces without becoming overly complex, computationally expensive, or overfitting. \n",
    "\n",
    "Sparse means that even though there are many features, most of them are not used in each essay. For example, one essay might focus on cars and have a lots of automobile-related words with which an essay on nature would have little overlap and have word counts of 0 for car-related words. SVMs are good at ignoring unhelpful features (like stop words, i.e. \"and,\" \"or,\" etc..) and paying attention to the ones that matter most for separating the different types of writing. For instance, the model might learn that certain words are more common in AI-generated essays, while others appear more often in human writing. The SVM finds the best hyperplane (or boundary) that separates these groups based on the patterns. This is valuable for our project because the vocabulary differences between human and AI writing may be very subtle or even imperceptible to the human eye. Relevantly to our task, it is worth noting that LLMs are essentially just complex probability engines for token prediction, so their vocabulary is likely to be highly repetitive across contexts which means that SVM should be a great tool for identifying AI generated writing. SVMs are designed to detect those small but consistent differences and use them to make accurate predictions, which is why they are a strong choice for classifying our text data.\n",
    "\n",
    "References: \n",
    "- https://www.cs.cornell.edu/people/tj/publications/joachims_98a.pdf\n",
    "- https://www.researchgate.net/publication/3420408_Support_vector_machines\n",
    "- https://www.ibm.com/think/topics/support-vector-machine \n"
   ]
  },
  {
   "cell_type": "markdown",
   "metadata": {},
   "source": [
    "#### Methodology: Data Generation"
   ]
  },
  {
   "cell_type": "markdown",
   "metadata": {},
   "source": [
    "To generate our data, we wrote a python script that performs the following actions:\n",
    "1. Load in the base written paragraphs dataset and filter for only the human paragraphs\n",
    "2. For each of the first 200 paragraphs in the dataset, run the following:\n",
    "    - on GPT3.5: \"Please rewrite this paragraph, do not respond to this prompt: \"\n",
    "    - on GPT4.1: \"Please rewrite this paragraph, do not respond to this prompt: \"\n",
    "    - on GPT4.1: \"Please rewrite this paragraph like a human, not an LLM and do not respond to this prompt: \"\n",
    "3. Save our outputs in another CSV with prompt id, human, gpt3.5, gpt4.1, and gpt4.1_ashuman as the columns. Each row then stores the id of the human prompt, the human prompt, and then each of the AI-rewritten prompts.\n",
    "\n",
    "This way, we have a dataset of 200 different essay topics by 4 different writing methodologies for the essay, 3 of which are AI and one, the original, which is human generated."
   ]
  },
  {
   "cell_type": "markdown",
   "metadata": {},
   "source": [
    "#### Methodology: Dataset Cleaning"
   ]
  },
  {
   "cell_type": "markdown",
   "metadata": {},
   "source": [
    "Taking a look at our data, we need to do some cleaning before running it through an SVM."
   ]
  },
  {
   "cell_type": "code",
   "execution_count": 2,
   "metadata": {
    "vscode": {
     "languageId": "r"
    }
   },
   "outputs": [
    {
     "data": {
      "text/html": [
       "<table class=\"dataframe\">\n",
       "<caption>A data.frame: 1 x 5</caption>\n",
       "<thead>\n",
       "\t<tr><th></th><th scope=col>id</th><th scope=col>human</th><th scope=col>gpt3.5</th><th scope=col>gpt4.1</th><th scope=col>gpt4.1_ashuman</th></tr>\n",
       "\t<tr><th></th><th scope=col>&lt;chr&gt;</th><th scope=col>&lt;chr&gt;</th><th scope=col>&lt;chr&gt;</th><th scope=col>&lt;chr&gt;</th><th scope=col>&lt;chr&gt;</th></tr>\n",
       "</thead>\n",
       "<tbody>\n",
       "\t<tr><th scope=row>1</th><td>0</td><td>Cars. Cars have been around since they became famous in the 1900s, when Henry Ford created and built the first ModelT. Cars have played a major role in our every day lives since then. But now, people </td><td>Cars have been a significant part of our daily lives since their rise to fame in the early 1900s with the creation of the Model T by Henry Ford. However, there is growing concern over the impact of ex</td><td>For over a century, cars have been a staple of everyday life since Henry Ford introduced the Model T in the early 1900s. They have transformed how people live, work, and travel. However, there is grow</td><td>Cars have become a huge part of our everyday lives since the early 1900s, especially after Henry Ford introduced the Model T. However, more people are beginning to wonder if we should cut back on how </td></tr>\n",
       "</tbody>\n",
       "</table>\n"
      ],
      "text/latex": [
       "A data.frame: 1 x 5\n",
       "\\begin{tabular}{r|lllll}\n",
       "  & id & human & gpt3.5 & gpt4.1 & gpt4.1\\_ashuman\\\\\n",
       "  & <chr> & <chr> & <chr> & <chr> & <chr>\\\\\n",
       "\\hline\n",
       "\t1 & 0 & Cars. Cars have been around since they became famous in the 1900s, when Henry Ford created and built the first ModelT. Cars have played a major role in our every day lives since then. But now, people  & Cars have been a significant part of our daily lives since their rise to fame in the early 1900s with the creation of the Model T by Henry Ford. However, there is growing concern over the impact of ex & For over a century, cars have been a staple of everyday life since Henry Ford introduced the Model T in the early 1900s. They have transformed how people live, work, and travel. However, there is grow & Cars have become a huge part of our everyday lives since the early 1900s, especially after Henry Ford introduced the Model T. However, more people are beginning to wonder if we should cut back on how \\\\\n",
       "\\end{tabular}\n"
      ],
      "text/markdown": [
       "\n",
       "A data.frame: 1 x 5\n",
       "\n",
       "| <!--/--> | id &lt;chr&gt; | human &lt;chr&gt; | gpt3.5 &lt;chr&gt; | gpt4.1 &lt;chr&gt; | gpt4.1_ashuman &lt;chr&gt; |\n",
       "|---|---|---|---|---|---|\n",
       "| 1 | 0 | Cars. Cars have been around since they became famous in the 1900s, when Henry Ford created and built the first ModelT. Cars have played a major role in our every day lives since then. But now, people  | Cars have been a significant part of our daily lives since their rise to fame in the early 1900s with the creation of the Model T by Henry Ford. However, there is growing concern over the impact of ex | For over a century, cars have been a staple of everyday life since Henry Ford introduced the Model T in the early 1900s. They have transformed how people live, work, and travel. However, there is grow | Cars have become a huge part of our everyday lives since the early 1900s, especially after Henry Ford introduced the Model T. However, more people are beginning to wonder if we should cut back on how  |\n",
       "\n"
      ],
      "text/plain": [
       "  id\n",
       "1 0 \n",
       "  human                                                                                                                                                                                                   \n",
       "1 Cars. Cars have been around since they became famous in the 1900s, when Henry Ford created and built the first ModelT. Cars have played a major role in our every day lives since then. But now, people \n",
       "  gpt3.5                                                                                                                                                                                                  \n",
       "1 Cars have been a significant part of our daily lives since their rise to fame in the early 1900s with the creation of the Model T by Henry Ford. However, there is growing concern over the impact of ex\n",
       "  gpt4.1                                                                                                                                                                                                  \n",
       "1 For over a century, cars have been a staple of everyday life since Henry Ford introduced the Model T in the early 1900s. They have transformed how people live, work, and travel. However, there is grow\n",
       "  gpt4.1_ashuman                                                                                                                                                                                          \n",
       "1 Cars have become a huge part of our everyday lives since the early 1900s, especially after Henry Ford introduced the Model T. However, more people are beginning to wonder if we should cut back on how "
      ]
     },
     "metadata": {},
     "output_type": "display_data"
    }
   ],
   "source": [
    "library(tidyverse)\n",
    "library(dplyr)\n",
    "\n",
    "rewrite_paras = read.csv(\"rewrite_paras.csv\")\n",
    "head(rewrite_paras, 1) |>\n",
    "  mutate(across(everything(), ~ substr(.x, 1, 200))) # don't display the whole sections"
   ]
  },
  {
   "cell_type": "code",
   "execution_count": 2,
   "metadata": {
    "vscode": {
     "languageId": "r"
    }
   },
   "outputs": [
    {
     "data": {
      "text/html": [
       "' Goes On Without Cars\\342\\200\\235 by Elizabeth Rosenthal highlights how automobiles are central to suburban li'"
      ],
      "text/latex": [
       "' Goes On Without Cars\\textbackslash{}342\\textbackslash{}200\\textbackslash{}235 by Elizabeth Rosenthal highlights how automobiles are central to suburban li'"
      ],
      "text/markdown": [
       "' Goes On Without Cars\\342\\200\\235 by Elizabeth Rosenthal highlights how automobiles are central to suburban li'"
      ],
      "text/plain": [
       "[1] \" Goes On Without Cars\\342\\200\\235 by Elizabeth Rosenthal highlights how automobiles are central to suburban li\""
      ]
     },
     "metadata": {},
     "output_type": "display_data"
    },
    {
     "data": {
      "text/html": [
       "'\\200\\235 by Elizabeth Rosenthal hig'"
      ],
      "text/latex": [
       "'\\textbackslash{}200\\textbackslash{}235 by Elizabeth Rosenthal hig'"
      ],
      "text/markdown": [
       "'\\200\\235 by Elizabeth Rosenthal hig'"
      ],
      "text/plain": [
       "[1] \"\\200\\235 by Elizabeth Rosenthal hig\""
      ]
     },
     "metadata": {},
     "output_type": "display_data"
    },
    {
     "data": {
      "text/html": [
       "'\\235 by Elizabeth Rosenthal hig'"
      ],
      "text/latex": [
       "'\\textbackslash{}235 by Elizabeth Rosenthal hig'"
      ],
      "text/markdown": [
       "'\\235 by Elizabeth Rosenthal hig'"
      ],
      "text/plain": [
       "[1] \"\\235 by Elizabeth Rosenthal hig\""
      ]
     },
     "metadata": {},
     "output_type": "display_data"
    },
    {
     "data": {
      "text/html": [
       "' by Elizabeth Rosenthal hig'"
      ],
      "text/latex": [
       "' by Elizabeth Rosenthal hig'"
      ],
      "text/markdown": [
       "' by Elizabeth Rosenthal hig'"
      ],
      "text/plain": [
       "[1] \" by Elizabeth Rosenthal hig\""
      ]
     },
     "metadata": {},
     "output_type": "display_data"
    }
   ],
   "source": [
    "test3 = rewrite_paras$`gpt4.1`[1]\n",
    "\n",
    "substr(test3, start = 400, stop = 500)\n",
    "substr(test3, start = 422, stop = 450)\n",
    "substr(test3, start = 423, stop = 450)\n",
    "substr(test3, start = 424, stop = 450)"
   ]
  },
  {
   "cell_type": "markdown",
   "metadata": {},
   "source": [
    "We notice the GPT4.1 generated data is replacing single quotes (') and double quotes with erroneous encodings (i.e. <80><9c> displayed when we use the 'head' function) or digit strings (e.g. \\342\\200\\234) when we print directly. It seems like each of these codes(e.g. '\\342', '\\200', '/235') is a single character... so let's force our strings into utf8 and also remove all quotation marks and backslashes (backslashes are erroneously inserted and quotations are irrelevant for bag-of-word approach)."
   ]
  },
  {
   "cell_type": "code",
   "execution_count": 5,
   "metadata": {
    "vscode": {
     "languageId": "r"
    }
   },
   "outputs": [],
   "source": [
    "clean_text = function(x) {\n",
    "  x = iconv(x, from = \"UTF-8\", to = \"UTF-8\", sub = \"\")\n",
    "  x = gsub(\"\\n\", \"\", x, fixed = TRUE)\n",
    "  x = gsub(\"\\\\\", \"\", x, fixed = TRUE)\n",
    "  x = gsub(\"\\\"\", \"\", x, fixed = TRUE)\n",
    "  x = gsub(\"\\'\", \"\", x, fixed = TRUE)\n",
    "  x\n",
    "}\n",
    "\n",
    "rewrite_paras2 = rewrite_paras |>\n",
    "  mutate(across(1:5, clean_text))"
   ]
  },
  {
   "cell_type": "markdown",
   "metadata": {},
   "source": [
    "We also notice that, despite our prompt, GPT sometimes responds with something along the lines of \"Certainly! Here is a rewritten version of your paragraph: ---\"... we need to clean this out too, but first lets look at it on a by-method basis:"
   ]
  },
  {
   "cell_type": "code",
   "execution_count": 6,
   "metadata": {
    "vscode": {
     "languageId": "r"
    }
   },
   "outputs": [
    {
     "data": {
      "text/html": [
       "<table class=\"dataframe\">\n",
       "<caption>A data.frame: 10 x 5</caption>\n",
       "<thead>\n",
       "\t<tr><th></th><th scope=col>id</th><th scope=col>human</th><th scope=col>gpt3.5</th><th scope=col>gpt4.1</th><th scope=col>gpt4.1_ashuman</th></tr>\n",
       "\t<tr><th></th><th scope=col>&lt;chr&gt;</th><th scope=col>&lt;chr&gt;</th><th scope=col>&lt;chr&gt;</th><th scope=col>&lt;chr&gt;</th><th scope=col>&lt;chr&gt;</th></tr>\n",
       "</thead>\n",
       "<tbody>\n",
       "\t<tr><th scope=row>1</th><td>0</td><td>Cars. Cars have been around since they became famous in the 1900s, when Henry Ford created and built</td><td>Cars have been a significant part of our daily lives since their rise to fame in the early 1900s wit</td><td>For over a century, cars have been a staple of everyday life since Henry Ford introduced the Model T       </td><td>Cars have become a huge part of our everyday lives since the early 1900s, especially after Henry For       </td></tr>\n",
       "\t<tr><th scope=row>2</th><td>1</td><td>Transportation is a large necessity in most countries worldwide. With no doubt, cars, buses, and oth</td><td>Transportation is a vital aspect of daily life in most countries around the world, providing conveni</td><td>Transportation is essential in most countries around the world. Cars, buses, and other forms of tran       </td><td>Transportation is essential in most places around the world, making it much easier and quicker to ge       </td></tr>\n",
       "\t<tr><th scope=row>3</th><td>2</td><td>Americas love affair with its vehicles seems to be cooling says Elisabeth rosenthal. To understand r</td><td>Elisabeth Rosenthal suggests that Americas infatuation with vehicles is waning, with a gradual decre</td><td>Certainly! Here&lt;U+2019&gt;s your revised paragraph:Elisabeth Rosenthal notes that Americas love affair with it</td><td>Elisabeth Rosenthal points out that America&lt;U+2019&gt;s strong attachment to cars seems to be fading. In other</td></tr>\n",
       "\t<tr><th scope=row>4</th><td>3</td><td>How often do you ride in a car? Do you drive a one or any other motor vehicle to work? The store? To</td><td>How frequently do you use a car for transportation? Whether its for commuting to work, running erran</td><td><span style=white-space:pre-wrap>How frequently do you find yourself riding in a car? Do you usually drive to work, run errands, or g       </span></td><td>How often do you find yourself getting in a car&lt;U+2014&gt;maybe to drive to work, go shopping, or visit the ma</td></tr>\n",
       "\t<tr><th scope=row>5</th><td>4</td><td>Cars are a wonderful thing. They are perhaps one of the worlds greatest advancements and technologie</td><td>Cars are an incredible innovation that have greatly advanced transportation. They efficiently transp</td><td><span style=white-space:pre-wrap>Certainly! Here is a rewritten version of your paragraph:---Cars are an incredible invention and rep       </span></td><td>Cars are incredible inventions that have completely changed our lives. They&lt;U+2019&gt;re one of the most impor</td></tr>\n",
       "\t<tr><th scope=row>6</th><td>5</td><td>The electrol college system is an unfair system, people dont have the right to select their own pres</td><td>The Electoral College system is widely viewed as unfair because it does not allow for individuals to</td><td>Certainly! Heres a rewritten version of your paragraph:---The Electoral College is an unfair system        </td><td>The Electoral College is often criticized for being unfair because it prevents Americans from direct       </td></tr>\n",
       "\t<tr><th scope=row>7</th><td>6</td><td>Dear state senator, It is the utmost respect that I ask for the method for presidential election be </td><td>Dear State Senator, I respectfully urge for a revision of the presidential election process, transit</td><td>Certainly! Here&lt;U+2019&gt;s a revised version of your paragraph:---Dear State Senator,I write to you with deep</td><td><span style=white-space:pre-wrap>Dear State Senator,I am writing to respectfully request your consideration of changing how we elect        </span></td></tr>\n",
       "\t<tr><th scope=row>8</th><td>7</td><td>Fellow citizens, cars have become a major role in our daily lives. They have their many excellent us</td><td>Dear fellow citizens, cars play a significant role in our everyday lives, offering numerous benefits</td><td>Certainly! Here&lt;U+2019&gt;s a revised version of the paragraph:---Fellow citizens, cars play a significant rol</td><td><span style=white-space:pre-wrap>Cars play an important part in our daily routines, offering convenience and mobility. However, cutti       </span></td></tr>\n",
       "\t<tr><th scope=row>9</th><td>8</td><td>Its official: The electoral college is unfair, outdated, and irrational Plumer, Source 2. Many do no</td><td>The electoral college has been criticized for being unfair, outdated, and irrational according to Pl</td><td><span style=white-space:pre-wrap>Certainly! Here is your revised paragraph:---According to Plumer in Source 2, Its official: The elec       </span></td><td>Many people believe the Electoral College is not only unfair, but also outdated and doesn&lt;U+2019&gt;t make muc</td></tr>\n",
       "\t<tr><th scope=row>10</th><td>9</td><td>The Electoral College has been kept for centuries, established by the founding fathers and establish</td><td>The Electoral College, established by the founding fathers and enshrined in the Constitution for cen</td><td>Certainly! Here is your revised paragraph:The Electoral College has existed for generations, establi       </td><td>The Electoral College has been part of our election system since the beginning of the United States,       </td></tr>\n",
       "</tbody>\n",
       "</table>\n"
      ],
      "text/latex": [
       "A data.frame: 10 x 5\n",
       "\\begin{tabular}{r|lllll}\n",
       "  & id & human & gpt3.5 & gpt4.1 & gpt4.1\\_ashuman\\\\\n",
       "  & <chr> & <chr> & <chr> & <chr> & <chr>\\\\\n",
       "\\hline\n",
       "\t1 & 0 & Cars. Cars have been around since they became famous in the 1900s, when Henry Ford created and built & Cars have been a significant part of our daily lives since their rise to fame in the early 1900s wit & For over a century, cars have been a staple of everyday life since Henry Ford introduced the Model T        & Cars have become a huge part of our everyday lives since the early 1900s, especially after Henry For       \\\\\n",
       "\t2 & 1 & Transportation is a large necessity in most countries worldwide. With no doubt, cars, buses, and oth & Transportation is a vital aspect of daily life in most countries around the world, providing conveni & Transportation is essential in most countries around the world. Cars, buses, and other forms of tran        & Transportation is essential in most places around the world, making it much easier and quicker to ge       \\\\\n",
       "\t3 & 2 & Americas love affair with its vehicles seems to be cooling says Elisabeth rosenthal. To understand r & Elisabeth Rosenthal suggests that Americas infatuation with vehicles is waning, with a gradual decre & Certainly! Here<U+2019>s your revised paragraph:Elisabeth Rosenthal notes that Americas love affair with it & Elisabeth Rosenthal points out that America<U+2019>s strong attachment to cars seems to be fading. In other\\\\\n",
       "\t4 & 3 & How often do you ride in a car? Do you drive a one or any other motor vehicle to work? The store? To & How frequently do you use a car for transportation? Whether its for commuting to work, running erran & How frequently do you find yourself riding in a car? Do you usually drive to work, run errands, or g        & How often do you find yourself getting in a car<U+2014>maybe to drive to work, go shopping, or visit the ma\\\\\n",
       "\t5 & 4 & Cars are a wonderful thing. They are perhaps one of the worlds greatest advancements and technologie & Cars are an incredible innovation that have greatly advanced transportation. They efficiently transp & Certainly! Here is a rewritten version of your paragraph:---Cars are an incredible invention and rep        & Cars are incredible inventions that have completely changed our lives. They<U+2019>re one of the most impor\\\\\n",
       "\t6 & 5 & The electrol college system is an unfair system, people dont have the right to select their own pres & The Electoral College system is widely viewed as unfair because it does not allow for individuals to & Certainly! Heres a rewritten version of your paragraph:---The Electoral College is an unfair system         & The Electoral College is often criticized for being unfair because it prevents Americans from direct       \\\\\n",
       "\t7 & 6 & Dear state senator, It is the utmost respect that I ask for the method for presidential election be  & Dear State Senator, I respectfully urge for a revision of the presidential election process, transit & Certainly! Here<U+2019>s a revised version of your paragraph:---Dear State Senator,I write to you with deep & Dear State Senator,I am writing to respectfully request your consideration of changing how we elect        \\\\\n",
       "\t8 & 7 & Fellow citizens, cars have become a major role in our daily lives. They have their many excellent us & Dear fellow citizens, cars play a significant role in our everyday lives, offering numerous benefits & Certainly! Here<U+2019>s a revised version of the paragraph:---Fellow citizens, cars play a significant rol & Cars play an important part in our daily routines, offering convenience and mobility. However, cutti       \\\\\n",
       "\t9 & 8 & Its official: The electoral college is unfair, outdated, and irrational Plumer, Source 2. Many do no & The electoral college has been criticized for being unfair, outdated, and irrational according to Pl & Certainly! Here is your revised paragraph:---According to Plumer in Source 2, Its official: The elec        & Many people believe the Electoral College is not only unfair, but also outdated and doesn<U+2019>t make muc\\\\\n",
       "\t10 & 9 & The Electoral College has been kept for centuries, established by the founding fathers and establish & The Electoral College, established by the founding fathers and enshrined in the Constitution for cen & Certainly! Here is your revised paragraph:The Electoral College has existed for generations, establi        & The Electoral College has been part of our election system since the beginning of the United States,       \\\\\n",
       "\\end{tabular}\n"
      ],
      "text/markdown": [
       "\n",
       "A data.frame: 10 x 5\n",
       "\n",
       "| <!--/--> | id &lt;chr&gt; | human &lt;chr&gt; | gpt3.5 &lt;chr&gt; | gpt4.1 &lt;chr&gt; | gpt4.1_ashuman &lt;chr&gt; |\n",
       "|---|---|---|---|---|---|\n",
       "| 1 | 0 | Cars. Cars have been around since they became famous in the 1900s, when Henry Ford created and built | Cars have been a significant part of our daily lives since their rise to fame in the early 1900s wit | For over a century, cars have been a staple of everyday life since Henry Ford introduced the Model T        | Cars have become a huge part of our everyday lives since the early 1900s, especially after Henry For        |\n",
       "| 2 | 1 | Transportation is a large necessity in most countries worldwide. With no doubt, cars, buses, and oth | Transportation is a vital aspect of daily life in most countries around the world, providing conveni | Transportation is essential in most countries around the world. Cars, buses, and other forms of tran        | Transportation is essential in most places around the world, making it much easier and quicker to ge        |\n",
       "| 3 | 2 | Americas love affair with its vehicles seems to be cooling says Elisabeth rosenthal. To understand r | Elisabeth Rosenthal suggests that Americas infatuation with vehicles is waning, with a gradual decre | Certainly! Here&lt;U+2019&gt;s your revised paragraph:Elisabeth Rosenthal notes that Americas love affair with it | Elisabeth Rosenthal points out that America&lt;U+2019&gt;s strong attachment to cars seems to be fading. In other |\n",
       "| 4 | 3 | How often do you ride in a car? Do you drive a one or any other motor vehicle to work? The store? To | How frequently do you use a car for transportation? Whether its for commuting to work, running erran | How frequently do you find yourself riding in a car? Do you usually drive to work, run errands, or g        | How often do you find yourself getting in a car&lt;U+2014&gt;maybe to drive to work, go shopping, or visit the ma |\n",
       "| 5 | 4 | Cars are a wonderful thing. They are perhaps one of the worlds greatest advancements and technologie | Cars are an incredible innovation that have greatly advanced transportation. They efficiently transp | Certainly! Here is a rewritten version of your paragraph:---Cars are an incredible invention and rep        | Cars are incredible inventions that have completely changed our lives. They&lt;U+2019&gt;re one of the most impor |\n",
       "| 6 | 5 | The electrol college system is an unfair system, people dont have the right to select their own pres | The Electoral College system is widely viewed as unfair because it does not allow for individuals to | Certainly! Heres a rewritten version of your paragraph:---The Electoral College is an unfair system         | The Electoral College is often criticized for being unfair because it prevents Americans from direct        |\n",
       "| 7 | 6 | Dear state senator, It is the utmost respect that I ask for the method for presidential election be  | Dear State Senator, I respectfully urge for a revision of the presidential election process, transit | Certainly! Here&lt;U+2019&gt;s a revised version of your paragraph:---Dear State Senator,I write to you with deep | Dear State Senator,I am writing to respectfully request your consideration of changing how we elect         |\n",
       "| 8 | 7 | Fellow citizens, cars have become a major role in our daily lives. They have their many excellent us | Dear fellow citizens, cars play a significant role in our everyday lives, offering numerous benefits | Certainly! Here&lt;U+2019&gt;s a revised version of the paragraph:---Fellow citizens, cars play a significant rol | Cars play an important part in our daily routines, offering convenience and mobility. However, cutti        |\n",
       "| 9 | 8 | Its official: The electoral college is unfair, outdated, and irrational Plumer, Source 2. Many do no | The electoral college has been criticized for being unfair, outdated, and irrational according to Pl | Certainly! Here is your revised paragraph:---According to Plumer in Source 2, Its official: The elec        | Many people believe the Electoral College is not only unfair, but also outdated and doesn&lt;U+2019&gt;t make muc |\n",
       "| 10 | 9 | The Electoral College has been kept for centuries, established by the founding fathers and establish | The Electoral College, established by the founding fathers and enshrined in the Constitution for cen | Certainly! Here is your revised paragraph:The Electoral College has existed for generations, establi        | The Electoral College has been part of our election system since the beginning of the United States,        |\n",
       "\n"
      ],
      "text/plain": [
       "   id\n",
       "1  0 \n",
       "2  1 \n",
       "3  2 \n",
       "4  3 \n",
       "5  4 \n",
       "6  5 \n",
       "7  6 \n",
       "8  7 \n",
       "9  8 \n",
       "10 9 \n",
       "   human                                                                                               \n",
       "1  Cars. Cars have been around since they became famous in the 1900s, when Henry Ford created and built\n",
       "2  Transportation is a large necessity in most countries worldwide. With no doubt, cars, buses, and oth\n",
       "3  Americas love affair with its vehicles seems to be cooling says Elisabeth rosenthal. To understand r\n",
       "4  How often do you ride in a car? Do you drive a one or any other motor vehicle to work? The store? To\n",
       "5  Cars are a wonderful thing. They are perhaps one of the worlds greatest advancements and technologie\n",
       "6  The electrol college system is an unfair system, people dont have the right to select their own pres\n",
       "7  Dear state senator, It is the utmost respect that I ask for the method for presidential election be \n",
       "8  Fellow citizens, cars have become a major role in our daily lives. They have their many excellent us\n",
       "9  Its official: The electoral college is unfair, outdated, and irrational Plumer, Source 2. Many do no\n",
       "10 The Electoral College has been kept for centuries, established by the founding fathers and establish\n",
       "   gpt3.5                                                                                              \n",
       "1  Cars have been a significant part of our daily lives since their rise to fame in the early 1900s wit\n",
       "2  Transportation is a vital aspect of daily life in most countries around the world, providing conveni\n",
       "3  Elisabeth Rosenthal suggests that Americas infatuation with vehicles is waning, with a gradual decre\n",
       "4  How frequently do you use a car for transportation? Whether its for commuting to work, running erran\n",
       "5  Cars are an incredible innovation that have greatly advanced transportation. They efficiently transp\n",
       "6  The Electoral College system is widely viewed as unfair because it does not allow for individuals to\n",
       "7  Dear State Senator, I respectfully urge for a revision of the presidential election process, transit\n",
       "8  Dear fellow citizens, cars play a significant role in our everyday lives, offering numerous benefits\n",
       "9  The electoral college has been criticized for being unfair, outdated, and irrational according to Pl\n",
       "10 The Electoral College, established by the founding fathers and enshrined in the Constitution for cen\n",
       "   gpt4.1                                                                                                     \n",
       "1  For over a century, cars have been a staple of everyday life since Henry Ford introduced the Model T       \n",
       "2  Transportation is essential in most countries around the world. Cars, buses, and other forms of tran       \n",
       "3  Certainly! Here<U+2019>s your revised paragraph:Elisabeth Rosenthal notes that Americas love affair with it\n",
       "4  How frequently do you find yourself riding in a car? Do you usually drive to work, run errands, or g       \n",
       "5  Certainly! Here is a rewritten version of your paragraph:---Cars are an incredible invention and rep       \n",
       "6  Certainly! Heres a rewritten version of your paragraph:---The Electoral College is an unfair system        \n",
       "7  Certainly! Here<U+2019>s a revised version of your paragraph:---Dear State Senator,I write to you with deep\n",
       "8  Certainly! Here<U+2019>s a revised version of the paragraph:---Fellow citizens, cars play a significant rol\n",
       "9  Certainly! Here is your revised paragraph:---According to Plumer in Source 2, Its official: The elec       \n",
       "10 Certainly! Here is your revised paragraph:The Electoral College has existed for generations, establi       \n",
       "   gpt4.1_ashuman                                                                                             \n",
       "1  Cars have become a huge part of our everyday lives since the early 1900s, especially after Henry For       \n",
       "2  Transportation is essential in most places around the world, making it much easier and quicker to ge       \n",
       "3  Elisabeth Rosenthal points out that America<U+2019>s strong attachment to cars seems to be fading. In other\n",
       "4  How often do you find yourself getting in a car<U+2014>maybe to drive to work, go shopping, or visit the ma\n",
       "5  Cars are incredible inventions that have completely changed our lives. They<U+2019>re one of the most impor\n",
       "6  The Electoral College is often criticized for being unfair because it prevents Americans from direct       \n",
       "7  Dear State Senator,I am writing to respectfully request your consideration of changing how we elect        \n",
       "8  Cars play an important part in our daily routines, offering convenience and mobility. However, cutti       \n",
       "9  Many people believe the Electoral College is not only unfair, but also outdated and doesn<U+2019>t make muc\n",
       "10 The Electoral College has been part of our election system since the beginning of the United States,       "
      ]
     },
     "metadata": {},
     "output_type": "display_data"
    }
   ],
   "source": [
    "rewrite_paras2 |>\n",
    "    mutate(across(2:5,~ substr(.x, 1, 100))) |>\n",
    "    head(10)\n"
   ]
  },
  {
   "cell_type": "markdown",
   "metadata": {},
   "source": [
    "Seems like it only happens on prompt 2 (gpt4.1 base prompt) and always takes the form of \"Certainly! ... your revised paragraph:(opt ---)\". Let's cut it out of our data:"
   ]
  },
  {
   "cell_type": "code",
   "execution_count": 24,
   "metadata": {
    "vscode": {
     "languageId": "r"
    }
   },
   "outputs": [],
   "source": [
    "# REGEX\n",
    "clean_text = function(x) {\n",
    "  x = gsub(\"(?s)Certainly.*?:(?:---)?\", \"\", x, perl = TRUE)\n",
    "  x\n",
    "}\n",
    "rewrite_paras3 = rewrite_paras2 |>\n",
    "  mutate(across(2:5, clean_text))\n"
   ]
  },
  {
   "cell_type": "markdown",
   "metadata": {},
   "source": [
    "### SVM"
   ]
  },
  {
   "cell_type": "markdown",
   "metadata": {},
   "source": [
    "We want to use a bag-of-words format for our dataset to feed word counts into SVM, so we need to manipulate the dataset a bit more:"
   ]
  },
  {
   "cell_type": "code",
   "execution_count": 26,
   "metadata": {
    "vscode": {
     "languageId": "r"
    }
   },
   "outputs": [
    {
     "name": "stdout",
     "output_type": "stream",
     "text": [
      "\u001b[90m# A tibble: 800 x 3\u001b[39m\n",
      "   id    source         text                                                    \n",
      "   \u001b[3m\u001b[90m<chr>\u001b[39m\u001b[23m \u001b[3m\u001b[90m<chr>\u001b[39m\u001b[23m          \u001b[3m\u001b[90m<chr>\u001b[39m\u001b[23m                                                   \n",
      "\u001b[90m 1\u001b[39m 0     human          \u001b[90m\"\u001b[39mCars. Cars have been around since they became famous i~\n",
      "\u001b[90m 2\u001b[39m 0     gpt3.5         \u001b[90m\"\u001b[39mCars have been a significant part of our daily lives s~\n",
      "\u001b[90m 3\u001b[39m 0     gpt4.1         \u001b[90m\"\u001b[39mFor over a century, cars have been a staple of everyda~\n",
      "\u001b[90m 4\u001b[39m 0     gpt4.1_ashuman \u001b[90m\"\u001b[39mCars have become a huge part of our everyday lives sin~\n",
      "\u001b[90m 5\u001b[39m 1     human          \u001b[90m\"\u001b[39mTransportation is a large necessity in most countries ~\n",
      "\u001b[90m 6\u001b[39m 1     gpt3.5         \u001b[90m\"\u001b[39mTransportation is a vital aspect of daily life in most~\n",
      "\u001b[90m 7\u001b[39m 1     gpt4.1         \u001b[90m\"\u001b[39mTransportation is essential in most countries around t~\n",
      "\u001b[90m 8\u001b[39m 1     gpt4.1_ashuman \u001b[90m\"\u001b[39mTransportation is essential in most places around the ~\n",
      "\u001b[90m 9\u001b[39m 2     human          \u001b[90m\"\u001b[39mAmericas love affair with its vehicles seems to be coo~\n",
      "\u001b[90m10\u001b[39m 2     gpt3.5         \u001b[90m\"\u001b[39mElisabeth Rosenthal suggests that Americas infatuation~\n",
      "\u001b[90m# i 790 more rows\u001b[39m\n",
      "\u001b[90m# A tibble: 96,966 x 4\u001b[39m\n",
      "   id    source word         n\n",
      "   \u001b[3m\u001b[90m<chr>\u001b[39m\u001b[23m \u001b[3m\u001b[90m<chr>\u001b[39m\u001b[23m  \u001b[3m\u001b[90m<chr>\u001b[39m\u001b[23m    \u001b[3m\u001b[90m<int>\u001b[39m\u001b[23m\n",
      "\u001b[90m 1\u001b[39m 0     gpt3.5 12           1\n",
      "\u001b[90m 2\u001b[39m 0     gpt3.5 1900s        1\n",
      "\u001b[90m 3\u001b[39m 0     gpt3.5 50           1\n",
      "\u001b[90m 4\u001b[39m 0     gpt3.5 altern       2\n",
      "\u001b[90m 5\u001b[39m 0     gpt3.5 american     1\n",
      "\u001b[90m 6\u001b[39m 0     gpt3.5 andrew       1\n",
      "\u001b[90m 7\u001b[39m 0     gpt3.5 articl       2\n",
      "\u001b[90m 8\u001b[39m 0     gpt3.5 ban          1\n",
      "\u001b[90m 9\u001b[39m 0     gpt3.5 bike         1\n",
      "\u001b[90m10\u001b[39m 0     gpt3.5 bogota       1\n",
      "\u001b[90m# i 96,956 more rows\u001b[39m\n",
      "\u001b[90m# A tibble: 800 x 5,132\u001b[39m\n",
      "   id    source   c_12 c_1900s  c_50 c_altern c_american c_andrew c_articl c_ban\n",
      "   \u001b[3m\u001b[90m<chr>\u001b[39m\u001b[23m \u001b[3m\u001b[90m<chr>\u001b[39m\u001b[23m   \u001b[3m\u001b[90m<int>\u001b[39m\u001b[23m   \u001b[3m\u001b[90m<int>\u001b[39m\u001b[23m \u001b[3m\u001b[90m<int>\u001b[39m\u001b[23m    \u001b[3m\u001b[90m<int>\u001b[39m\u001b[23m      \u001b[3m\u001b[90m<int>\u001b[39m\u001b[23m    \u001b[3m\u001b[90m<int>\u001b[39m\u001b[23m    \u001b[3m\u001b[90m<int>\u001b[39m\u001b[23m \u001b[3m\u001b[90m<int>\u001b[39m\u001b[23m\n",
      "\u001b[90m 1\u001b[39m 0     gpt3.5      1       1     1        2          1        1        2     1\n",
      "\u001b[90m 2\u001b[39m 0     gpt4.1      1       1     1        0          0        1        4     3\n",
      "\u001b[90m 3\u001b[39m 0     gpt4.1~     1       1     1        0          0        1        2     3\n",
      "\u001b[90m 4\u001b[39m 0     human       1       1     1        0          0        1        4     3\n",
      "\u001b[90m 5\u001b[39m 1     gpt3.5      1       0     0        1          0        0        0     0\n",
      "\u001b[90m 6\u001b[39m 1     gpt4.1      1       0     1        1          0        0        0     0\n",
      "\u001b[90m 7\u001b[39m 1     gpt4.1~     1       0     0        1          0        0        0     0\n",
      "\u001b[90m 8\u001b[39m 1     human       1       0     1        0          0        0        0     1\n",
      "\u001b[90m 9\u001b[39m 10    gpt3.5      0       0     0        0          1        0        0     0\n",
      "\u001b[90m10\u001b[39m 10    gpt4.1      0       0     0        0          0        0        0     0\n",
      "\u001b[90m# i 790 more rows\u001b[39m\n",
      "\u001b[90m# i 5,122 more variables: c_bike <int>, c_bogota <int>, c_car <int>,\u001b[39m\n",
      "\u001b[90m#   c_citi <int>, c_concern <int>, c_contributor <int>, c_creat <int>,\u001b[39m\n",
      "\u001b[90m#   c_creation <int>, c_daili <int>, c_day <int>, c_detriment <int>,\u001b[39m\n",
      "\u001b[90m#   c_discuss <int>, c_drive <int>, c_due <int>, c_earli <int>, c_effect <int>,\u001b[39m\n",
      "\u001b[90m#   c_elizabeth <int>, c_emiss <int>, c_enforc <int>, c_environ <int>,\u001b[39m\n",
      "\u001b[90m#   c_environment <int>, c_european <int>, c_evid <int>, c_excess <int>, ...\u001b[39m\n"
     ]
    }
   ],
   "source": [
    "# Modified gpt code to load in the data and make it bag-of-words format\n",
    "library(tidytext)\n",
    "library(SnowballC)\n",
    "\n",
    "# start by pivoting longer the dataset to split each generation method into its own observation for each topic\n",
    "text_cols <- c(\"human\", \"gpt3.5\", \"gpt4.1\", \"gpt4.1_ashuman\")\n",
    "rewrite_paras_longer = rewrite_paras3 |>\n",
    "  pivot_longer( \n",
    "    cols      = all_of(text_cols),\n",
    "    names_to  = \"source\",\n",
    "    values_to = \"text\"\n",
    "  )\n",
    "print(rewrite_paras_longer) # shape of (id, source, text)\n",
    "\n",
    "# now we want to remove stop words, convert our words to wordstems, and compute word counts for each text\n",
    "data(\"stop_words\")  # from tidytext\n",
    "id_source_word_count = rewrite_paras_longer |>\n",
    "  unnest_tokens(word, text) |> # expand vertically to (id, source, word)\n",
    "  mutate(word = tolower(word)) |> # ensure words are lowercase\n",
    "  mutate(word = wordStem(word, language = \"en\")) |> # convert words to stem\n",
    "  filter(!word %in% stop_words$word) |> # drop stop-words\n",
    "  count(id, source, word) # count occurrences of each word with respect ot id and source\n",
    "print(id_source_word_count)\n",
    "\n",
    "# Now we pivot the dataset back wider to make each word a feature with its value as a count for each text in the dataset\n",
    "rewrite_paras_wider = id_source_word_count |>\n",
    "  pivot_wider(\n",
    "    id_cols = c(id, source),\n",
    "    names_from  = word,\n",
    "    values_from = n,\n",
    "    values_fill = 0,\n",
    "    names_prefix  = \"c_\"\n",
    "  )\n",
    "print(rewrite_paras_wider)"
   ]
  },
  {
   "cell_type": "markdown",
   "metadata": {},
   "source": [
    "To do some initial exploration, we want to look at word usage differences between the four generation methods. To do so, we want to sum over word count by source and use PCA to try to get an intuition of how separable our data is by word count. "
   ]
  },
  {
   "cell_type": "code",
   "execution_count": 27,
   "metadata": {
    "vscode": {
     "languageId": "r"
    }
   },
   "outputs": [
    {
     "data": {
      "text/html": [
       "<table class=\"dataframe\">\n",
       "<caption>A tibble: 4 x 5131</caption>\n",
       "<thead>\n",
       "\t<tr><th scope=col>source</th><th scope=col>c_12</th><th scope=col>c_1900s</th><th scope=col>c_50</th><th scope=col>c_altern</th><th scope=col>c_american</th><th scope=col>c_andrew</th><th scope=col>c_articl</th><th scope=col>c_ban</th><th scope=col>c_bike</th><th scope=col>...</th><th scope=col>c_tabl</th><th scope=col>c_who’v</th><th scope=col>c_2050.00</th><th scope=col>c_certianlti</th><th scope=col>c_heathi</th><th scope=col>c_intir</th><th scope=col>c_realx</th><th scope=col>c_storemarket</th><th scope=col>c_undertand</th><th scope=col>c_wonderful</th></tr>\n",
       "\t<tr><th scope=col>&lt;chr&gt;</th><th scope=col>&lt;int&gt;</th><th scope=col>&lt;int&gt;</th><th scope=col>&lt;int&gt;</th><th scope=col>&lt;int&gt;</th><th scope=col>&lt;int&gt;</th><th scope=col>&lt;int&gt;</th><th scope=col>&lt;int&gt;</th><th scope=col>&lt;int&gt;</th><th scope=col>&lt;int&gt;</th><th scope=col>...</th><th scope=col>&lt;int&gt;</th><th scope=col>&lt;int&gt;</th><th scope=col>&lt;int&gt;</th><th scope=col>&lt;int&gt;</th><th scope=col>&lt;int&gt;</th><th scope=col>&lt;int&gt;</th><th scope=col>&lt;int&gt;</th><th scope=col>&lt;int&gt;</th><th scope=col>&lt;int&gt;</th><th scope=col>&lt;int&gt;</th></tr>\n",
       "</thead>\n",
       "<tbody>\n",
       "\t<tr><td>gpt3.5        </td><td> 8</td><td>3</td><td> 7</td><td>114</td><td> 40</td><td> 4</td><td> 13</td><td> 39</td><td> 38</td><td>...</td><td>0</td><td>0</td><td>0</td><td>0</td><td>0</td><td>0</td><td>0</td><td>0</td><td>0</td><td>0</td></tr>\n",
       "\t<tr><td>gpt4.1        </td><td>42</td><td>2</td><td>43</td><td>118</td><td>163</td><td>22</td><td> 86</td><td>137</td><td>109</td><td>...</td><td>0</td><td>0</td><td>0</td><td>0</td><td>0</td><td>0</td><td>0</td><td>0</td><td>0</td><td>0</td></tr>\n",
       "\t<tr><td>gpt4.1_ashuman</td><td>40</td><td>2</td><td>31</td><td> 48</td><td>137</td><td>15</td><td> 73</td><td>117</td><td>169</td><td>...</td><td>1</td><td>1</td><td>0</td><td>0</td><td>0</td><td>0</td><td>0</td><td>0</td><td>0</td><td>0</td></tr>\n",
       "\t<tr><td>human         </td><td>44</td><td>3</td><td>48</td><td> 46</td><td>115</td><td>26</td><td>140</td><td>179</td><td>108</td><td>...</td><td>0</td><td>0</td><td>1</td><td>1</td><td>1</td><td>1</td><td>1</td><td>1</td><td>1</td><td>1</td></tr>\n",
       "</tbody>\n",
       "</table>\n"
      ],
      "text/latex": [
       "A tibble: 4 x 5131\n",
       "\\begin{tabular}{lllllllllllllllllllll}\n",
       " source & c\\_12 & c\\_1900s & c\\_50 & c\\_altern & c\\_american & c\\_andrew & c\\_articl & c\\_ban & c\\_bike & ... & c\\_tabl & c\\_who’v & c\\_2050.00 & c\\_certianlti & c\\_heathi & c\\_intir & c\\_realx & c\\_storemarket & c\\_undertand & c\\_wonderful\\\\\n",
       " <chr> & <int> & <int> & <int> & <int> & <int> & <int> & <int> & <int> & <int> & ... & <int> & <int> & <int> & <int> & <int> & <int> & <int> & <int> & <int> & <int>\\\\\n",
       "\\hline\n",
       "\t gpt3.5         &  8 & 3 &  7 & 114 &  40 &  4 &  13 &  39 &  38 & ... & 0 & 0 & 0 & 0 & 0 & 0 & 0 & 0 & 0 & 0\\\\\n",
       "\t gpt4.1         & 42 & 2 & 43 & 118 & 163 & 22 &  86 & 137 & 109 & ... & 0 & 0 & 0 & 0 & 0 & 0 & 0 & 0 & 0 & 0\\\\\n",
       "\t gpt4.1\\_ashuman & 40 & 2 & 31 &  48 & 137 & 15 &  73 & 117 & 169 & ... & 1 & 1 & 0 & 0 & 0 & 0 & 0 & 0 & 0 & 0\\\\\n",
       "\t human          & 44 & 3 & 48 &  46 & 115 & 26 & 140 & 179 & 108 & ... & 0 & 0 & 1 & 1 & 1 & 1 & 1 & 1 & 1 & 1\\\\\n",
       "\\end{tabular}\n"
      ],
      "text/markdown": [
       "\n",
       "A tibble: 4 x 5131\n",
       "\n",
       "| source &lt;chr&gt; | c_12 &lt;int&gt; | c_1900s &lt;int&gt; | c_50 &lt;int&gt; | c_altern &lt;int&gt; | c_american &lt;int&gt; | c_andrew &lt;int&gt; | c_articl &lt;int&gt; | c_ban &lt;int&gt; | c_bike &lt;int&gt; | ... ... | c_tabl &lt;int&gt; | c_who’v &lt;int&gt; | c_2050.00 &lt;int&gt; | c_certianlti &lt;int&gt; | c_heathi &lt;int&gt; | c_intir &lt;int&gt; | c_realx &lt;int&gt; | c_storemarket &lt;int&gt; | c_undertand &lt;int&gt; | c_wonderful &lt;int&gt; |\n",
       "|---|---|---|---|---|---|---|---|---|---|---|---|---|---|---|---|---|---|---|---|---|\n",
       "| gpt3.5         |  8 | 3 |  7 | 114 |  40 |  4 |  13 |  39 |  38 | ... | 0 | 0 | 0 | 0 | 0 | 0 | 0 | 0 | 0 | 0 |\n",
       "| gpt4.1         | 42 | 2 | 43 | 118 | 163 | 22 |  86 | 137 | 109 | ... | 0 | 0 | 0 | 0 | 0 | 0 | 0 | 0 | 0 | 0 |\n",
       "| gpt4.1_ashuman | 40 | 2 | 31 |  48 | 137 | 15 |  73 | 117 | 169 | ... | 1 | 1 | 0 | 0 | 0 | 0 | 0 | 0 | 0 | 0 |\n",
       "| human          | 44 | 3 | 48 |  46 | 115 | 26 | 140 | 179 | 108 | ... | 0 | 0 | 1 | 1 | 1 | 1 | 1 | 1 | 1 | 1 |\n",
       "\n"
      ],
      "text/plain": [
       "  source         c_12 c_1900s c_50 c_altern c_american c_andrew c_articl c_ban\n",
       "1 gpt3.5          8   3        7   114       40         4        13       39  \n",
       "2 gpt4.1         42   2       43   118      163        22        86      137  \n",
       "3 gpt4.1_ashuman 40   2       31    48      137        15        73      117  \n",
       "4 human          44   3       48    46      115        26       140      179  \n",
       "  c_bike ... c_tabl c_who<U+2019>v        c_2050.00 c_certianlti c_heathi c_intir\n",
       "1  38    ... 0      0              0         0            0        0      \n",
       "2 109    ... 0      0              0         0            0        0      \n",
       "3 169    ... 1      1              0         0            0        0      \n",
       "4 108    ... 0      0              1         1            1        1      \n",
       "  c_realx c_storemarket c_undertand c_wonderful\n",
       "1 0       0             0           0          \n",
       "2 0       0             0           0          \n",
       "3 0       0             0           0          \n",
       "4 1       1             1           1          "
      ]
     },
     "metadata": {},
     "output_type": "display_data"
    }
   ],
   "source": [
    "summed_by_source = rewrite_paras_wider |>\n",
    "  select(-id) |>\n",
    "  group_by(source) |>\n",
    "  summarise(across(everything(), sum), .groups = \"drop\")\n",
    "summed_by_source"
   ]
  },
  {
   "cell_type": "markdown",
   "metadata": {},
   "source": [
    "Okay, let's run PCA"
   ]
  },
  {
   "cell_type": "code",
   "execution_count": 29,
   "metadata": {
    "vscode": {
     "languageId": "r"
    }
   },
   "outputs": [
    {
     "data": {
      "text/plain": [
       "Importance of components:\n",
       "                           PC1     PC2   PC3       PC4\n",
       "Standard deviation     54.1511 34.6811 31.14 6.911e-13\n",
       "Proportion of Variance  0.5744  0.2356  0.19 0.000e+00\n",
       "Cumulative Proportion   0.5744  0.8100  1.00 1.000e+00"
      ]
     },
     "metadata": {},
     "output_type": "display_data"
    }
   ],
   "source": [
    "# quick clean for PCA\n",
    "summed_clean = summed_by_source |>\n",
    "  select(-source) |> # drop grouping column\n",
    "  select(where(~ is.numeric(.x) && # keep only numeric cols with some variance\n",
    "               var(.x, na.rm = TRUE) != 0))\n",
    "\n",
    "# lets run PCA\n",
    "pca = prcomp(summed_clean, center = TRUE, scale. = TRUE)\n",
    "summary(pca) "
   ]
  },
  {
   "cell_type": "markdown",
   "metadata": {},
   "source": [
    "It looks like only principal components 1-3 are particularly relevant, so let's see how they split the data:"
   ]
  },
  {
   "cell_type": "code",
   "execution_count": 39,
   "metadata": {
    "vscode": {
     "languageId": "r"
    }
   },
   "outputs": [
    {
     "data": {
      "image/png": "[encoded data removed]",
      "text/plain": [
       "Plot with title \"PCA: PC1 vs PC2 vs PC3\""
      ]
     },
     "metadata": {
      "image/png": {
       "height": 420,
       "width": 420
      }
     },
     "output_type": "display_data"
    }
   ],
   "source": [
    "# used GPT to help with making this graph\n",
    "\n",
    "library(scatterplot3d)\n",
    "par(bg = \"white\")\n",
    "\n",
    "scores = as.data.frame(pca$x)\n",
    "scores$source = factor(summed_by_source$source) # add back the classes\n",
    "palette = c(\"red\",\"blue\",\"darkgreen\",\"purple\")\n",
    "col_vec  = palette[as.integer(scores$source)]\n",
    "\n",
    "s3d <- scatterplot3d(\n",
    "  x            = scores$PC1,\n",
    "  y            = scores$PC2,\n",
    "  z            = scores$PC3,\n",
    "  pch          = 19,\n",
    "  color        = col_vec,      \n",
    "  cex.symbols = 1.5,\n",
    "  angle        = 55,\n",
    "  main         = \"PCA: PC1 vs PC2 vs PC3\"\n",
    ")\n",
    "\n",
    "legend(\n",
    "  \"topright\",\n",
    "  legend = levels(scores$source),\n",
    "  col    = palette,\n",
    "  pch    = 19,\n",
    "  bty    = \"n\"\n",
    ")\n"
   ]
  },
  {
   "cell_type": "markdown",
   "metadata": {},
   "source": [
    "Interesting, it looks like PC1 is used primarily to distinguish human text, PC2 is used to distinguish GPT3.5, and PC3 distinguishes GPT4.1_ashuman from the others. The fact these distinctions are so apparent in the graph above shows that there is clearly significant vocabulary differences between each text generation method, which is promising for SVM, which we will use to split the data with hyperplanes on word counts. "
   ]
  },
  {
   "cell_type": "markdown",
   "metadata": {},
   "source": [
    "### SVM"
   ]
  },
  {
   "cell_type": "markdown",
   "metadata": {},
   "source": [
    "Now lets implement a linear SVM:"
   ]
  },
  {
   "cell_type": "code",
   "execution_count": null,
   "metadata": {
    "vscode": {
     "languageId": "r"
    }
   },
   "outputs": [],
   "source": [
    "library(janitor)\n",
    "library(caret)"
   ]
  },
  {
   "cell_type": "markdown",
   "metadata": {},
   "source": [
    "Linear Model:"
   ]
  },
  {
   "cell_type": "code",
   "execution_count": 41,
   "metadata": {
    "vscode": {
     "languageId": "r"
    }
   },
   "outputs": [
    {
     "name": "stdout",
     "output_type": "stream",
     "text": [
      "Confusion Matrix and Statistics\n",
      "\n",
      "                Reference\n",
      "Prediction       gpt3.5 gpt4.1 gpt4.1_ashuman human\n",
      "  gpt3.5            200      0              0     0\n",
      "  gpt4.1              0    184              3     1\n",
      "  gpt4.1_ashuman      0     16            197    15\n",
      "  human               0      0              0   184\n",
      "\n",
      "Overall Statistics\n",
      "                                          \n",
      "               Accuracy : 0.9562          \n",
      "                 95% CI : (0.9397, 0.9693)\n",
      "    No Information Rate : 0.25            \n",
      "    P-Value [Acc > NIR] : < 2.2e-16       \n",
      "                                          \n",
      "                  Kappa : 0.9417          \n",
      "                                          \n",
      " Mcnemar's Test P-Value : NA              \n",
      "\n",
      "Statistics by Class:\n",
      "\n",
      "                     Class: gpt3.5 Class: gpt4.1 Class: gpt4.1_ashuman\n",
      "Sensitivity                   1.00        0.9200                0.9850\n",
      "Specificity                   1.00        0.9933                0.9483\n",
      "Pos Pred Value                1.00        0.9787                0.8640\n",
      "Neg Pred Value                1.00        0.9739                0.9948\n",
      "Prevalence                    0.25        0.2500                0.2500\n",
      "Detection Rate                0.25        0.2300                0.2462\n",
      "Detection Prevalence          0.25        0.2350                0.2850\n",
      "Balanced Accuracy             1.00        0.9567                0.9667\n",
      "                     Class: human\n",
      "Sensitivity                 0.920\n",
      "Specificity                 1.000\n",
      "Pos Pred Value              1.000\n",
      "Neg Pred Value              0.974\n",
      "Prevalence                  0.250\n",
      "Detection Rate              0.230\n",
      "Detection Prevalence        0.230\n",
      "Balanced Accuracy           0.960\n"
     ]
    }
   ],
   "source": [
    "# used GPT to generate a starting template for running the R SVM module\n",
    "set.seed(123)\n",
    "\n",
    "rp_wide = clean_names(rewrite_paras_wider)\n",
    "rp_wide = rp_wide |> mutate(source = factor(source))\n",
    "\n",
    "linear_grid <- expand.grid(\n",
    "  C = 2^(-5:5)      # try C = 2^-5, 2^-4, …, 2^5\n",
    ")\n",
    "\n",
    "svm_linear = train(\n",
    "  source ~ . - id,\n",
    "  data       = rp_wide,\n",
    "  method     = \"svmLinear\",\n",
    "  preProcess = c(\"nzv\", \"center\", \"scale\", \"corr\"), #, \"pca\"),\n",
    "    # nzv: ignore near zero values (this happens because we're doing a fold/split of the dataset)\n",
    "    # center: center s.t. each value has mean 0\n",
    "    # scale: divide all values by std\n",
    "    # corr: remove predictors that are too highly correlated\n",
    "    # pca: run PCA and replace word counts with top components\n",
    "  \n",
    "  trControl  = trainControl(\n",
    "    method          = \"cv\", # how to resample, e.g. (CV, bootstrap, repeated CV, LOOCV, etc.)\n",
    "    number          = 5, # number of resampling iterations, e.g. 5 -> split into 5 folds, use 4 for training 1 for test\n",
    "    classProbs      = TRUE,\n",
    "    summaryFunction = multiClassSummary, # multiClassSummary() returns a bunch of metrics:\n",
    "                                         #   \"logLoss\", \"Mean_F1\", \"Mean_Sensitivity\", \"Mean_Specificity\", \"Accuracy\", \"Kappa\"\n",
    "    savePredictions = \"final\",\n",
    "  ),\n",
    "\n",
    "  metric = \"Accuracy\",\n",
    "    # Which performance metric to optimize when tuning, \n",
    "    # e.g. \"Accuracy\", \"ROC\", \"Kappa\", \"RMSE\", \"MAE\", \"Mean_F1\"\n",
    "  \n",
    "  #^ if we want to do a grid search of hyperparams\n",
    "  tuneGrid = linear_grid\n",
    ")\n",
    "\n",
    "train_pred = predict(svm_linear, newdata = rp_wide)\n",
    "cm = confusionMatrix(\n",
    "  data      = train_pred,\n",
    "  reference = rp_wide$source\n",
    ")\n",
    "print(cm)"
   ]
  },
  {
   "cell_type": "markdown",
   "metadata": {},
   "source": [
    "Lets also run polynomial and radial models to see how they do"
   ]
  },
  {
   "cell_type": "markdown",
   "metadata": {},
   "source": [
    "Polynomial 2d:"
   ]
  },
  {
   "cell_type": "code",
   "execution_count": 42,
   "metadata": {
    "vscode": {
     "languageId": "r"
    }
   },
   "outputs": [
    {
     "data": {
      "text/plain": [
       "Confusion Matrix and Statistics\n",
       "\n",
       "                Reference\n",
       "Prediction       gpt3.5 gpt4.1 gpt4.1_ashuman human\n",
       "  gpt3.5            199      0              0     0\n",
       "  gpt4.1              1    186              2     0\n",
       "  gpt4.1_ashuman      0     14            198    14\n",
       "  human               0      0              0   186\n",
       "\n",
       "Overall Statistics\n",
       "                                          \n",
       "               Accuracy : 0.9612          \n",
       "                 95% CI : (0.9454, 0.9735)\n",
       "    No Information Rate : 0.25            \n",
       "    P-Value [Acc > NIR] : < 2.2e-16       \n",
       "                                          \n",
       "                  Kappa : 0.9483          \n",
       "                                          \n",
       " Mcnemar's Test P-Value : NA              \n",
       "\n",
       "Statistics by Class:\n",
       "\n",
       "                     Class: gpt3.5 Class: gpt4.1 Class: gpt4.1_ashuman\n",
       "Sensitivity                 0.9950        0.9300                0.9900\n",
       "Specificity                 1.0000        0.9950                0.9533\n",
       "Pos Pred Value              1.0000        0.9841                0.8761\n",
       "Neg Pred Value              0.9983        0.9771                0.9965\n",
       "Prevalence                  0.2500        0.2500                0.2500\n",
       "Detection Rate              0.2487        0.2325                0.2475\n",
       "Detection Prevalence        0.2487        0.2362                0.2825\n",
       "Balanced Accuracy           0.9975        0.9625                0.9717\n",
       "                     Class: human\n",
       "Sensitivity                0.9300\n",
       "Specificity                1.0000\n",
       "Pos Pred Value             1.0000\n",
       "Neg Pred Value             0.9772\n",
       "Prevalence                 0.2500\n",
       "Detection Rate             0.2325\n",
       "Detection Prevalence       0.2325\n",
       "Balanced Accuracy          0.9650"
      ]
     },
     "metadata": {},
     "output_type": "display_data"
    }
   ],
   "source": [
    "# modified GPT generated SVM template for hyperparams\n",
    "# https://rpubs.com/uky994/593668\n",
    "\n",
    "library(caret)\n",
    "set.seed(123)\n",
    "\n",
    "rp_wide = rp_wide |> mutate(source = factor(source))\n",
    "\n",
    "poly2d_grid <- expand.grid(\n",
    "  degree = c(2),\n",
    "  scale  = c(0.001, 0.01, 0.1),\n",
    "  C      = c(0.1, 1, 10)\n",
    ")\n",
    "\n",
    "svm_poly2d = train(\n",
    "  source ~ . - id,\n",
    "  data       = rp_wide,\n",
    "  method     = \"svmPoly\",\n",
    "  preProcess = c(\"nzv\", \"center\", \"scale\", \"corr\"), #, \"pca\"),\n",
    "    # nzv: ignore near zero values (this happens because we're doing a fold/split of the dataset)\n",
    "    # center: center s.t. each value has mean 0\n",
    "    # scale: divide all values by std\n",
    "    # corr: remove predictors that are too highly correlated\n",
    "    # pca: run PCA and replace word counts with top components\n",
    "  \n",
    "  trControl  = trainControl(\n",
    "    method          = \"cv\", # how to resample, e.g. (CV, bootstrap, repeated CV, LOOCV, etc.)\n",
    "    number          = 5, # number of resampling iterations, e.g. 5 -> split into 5 folds, use 4 for training 1 for test\n",
    "    classProbs      = TRUE,\n",
    "    summaryFunction = multiClassSummary, # multiClassSummary() returns a bunch of metrics:\n",
    "                                         #   \"logLoss\", \"Mean_F1\", \"Mean_Sensitivity\", \"Mean_Specificity\", \"Accuracy\", \"Kappa\"\n",
    "    savePredictions = \"final\",\n",
    "  ),\n",
    "\n",
    "  metric = \"Accuracy\",\n",
    "    # Which performance metric to optimize when tuning, \n",
    "    # e.g. \"Accuracy\", \"ROC\", \"Kappa\", \"RMSE\", \"MAE\", \"Mean_F1\"\n",
    "  \n",
    "  #^ if we want to do a grid search of hyperparams\n",
    "  tuneGrid = poly2d_grid\n",
    ")\n",
    "\n",
    "train_pred = predict(svm_poly2d, newdata = rp_wide)\n",
    "confusionMatrix(\n",
    "  data      = train_pred,\n",
    "  reference = rp_wide$source\n",
    ")"
   ]
  },
  {
   "cell_type": "markdown",
   "metadata": {},
   "source": [
    "Polynomial 3d:"
   ]
  },
  {
   "cell_type": "code",
   "execution_count": 43,
   "metadata": {
    "vscode": {
     "languageId": "r"
    }
   },
   "outputs": [
    {
     "data": {
      "text/plain": [
       "Confusion Matrix and Statistics\n",
       "\n",
       "                Reference\n",
       "Prediction       gpt3.5 gpt4.1 gpt4.1_ashuman human\n",
       "  gpt3.5            197      1              1     0\n",
       "  gpt4.1              3    173              6     0\n",
       "  gpt4.1_ashuman      0     26            193     4\n",
       "  human               0      0              0   196\n",
       "\n",
       "Overall Statistics\n",
       "                                         \n",
       "               Accuracy : 0.9488         \n",
       "                 95% CI : (0.9311, 0.963)\n",
       "    No Information Rate : 0.25           \n",
       "    P-Value [Acc > NIR] : < 2.2e-16      \n",
       "                                         \n",
       "                  Kappa : 0.9317         \n",
       "                                         \n",
       " Mcnemar's Test P-Value : NA             \n",
       "\n",
       "Statistics by Class:\n",
       "\n",
       "                     Class: gpt3.5 Class: gpt4.1 Class: gpt4.1_ashuman\n",
       "Sensitivity                 0.9850        0.8650                0.9650\n",
       "Specificity                 0.9967        0.9850                0.9500\n",
       "Pos Pred Value              0.9899        0.9505                0.8655\n",
       "Neg Pred Value              0.9950        0.9563                0.9879\n",
       "Prevalence                  0.2500        0.2500                0.2500\n",
       "Detection Rate              0.2462        0.2162                0.2412\n",
       "Detection Prevalence        0.2487        0.2275                0.2787\n",
       "Balanced Accuracy           0.9908        0.9250                0.9575\n",
       "                     Class: human\n",
       "Sensitivity                0.9800\n",
       "Specificity                1.0000\n",
       "Pos Pred Value             1.0000\n",
       "Neg Pred Value             0.9934\n",
       "Prevalence                 0.2500\n",
       "Detection Rate             0.2450\n",
       "Detection Prevalence       0.2450\n",
       "Balanced Accuracy          0.9900"
      ]
     },
     "metadata": {},
     "output_type": "display_data"
    }
   ],
   "source": [
    "#! modified GPT code again\n",
    "# https://rpubs.com/uky994/593668\n",
    "\n",
    "library(caret)\n",
    "set.seed(123)\n",
    "\n",
    "rp_wide = rp_wide |> mutate(source = factor(source))\n",
    "\n",
    "poly3d_grid <- expand.grid(\n",
    "  degree = c(3),\n",
    "  scale  = c(0.001, 0.01, 0.1),\n",
    "  C      = c(0.1, 1, 10)\n",
    ")\n",
    "\n",
    "svm_poly3d = train(\n",
    "  source ~ . - id,\n",
    "  data       = rp_wide,\n",
    "  method     = \"svmPoly\",\n",
    "  preProcess = c(\"nzv\", \"center\", \"scale\", \"corr\"), #, \"pca\"),\n",
    "    # nzv: ignore near zero values (this happens because we're doing a fold/split of the dataset)\n",
    "    # center: center s.t. each value has mean 0\n",
    "    # scale: divide all values by std\n",
    "    # corr: remove predictors that are too highly correlated\n",
    "    # pca: run PCA and replace word counts with top components\n",
    "  \n",
    "  trControl  = trainControl(\n",
    "    method          = \"cv\", # how to resample, e.g. (CV, bootstrap, repeated CV, LOOCV, etc.)\n",
    "    number          = 5, # number of resampling iterations, e.g. 5 -> split into 5 folds, use 4 for training 1 for test\n",
    "    classProbs      = TRUE,\n",
    "    summaryFunction = multiClassSummary, # multiClassSummary() returns a bunch of metrics:\n",
    "                                         #   \"logLoss\", \"Mean_F1\", \"Mean_Sensitivity\", \"Mean_Specificity\", \"Accuracy\", \"Kappa\"\n",
    "    savePredictions = \"final\",\n",
    "  ),\n",
    "\n",
    "  metric = \"Accuracy\",\n",
    "    # Which performance metric to optimize when tuning, \n",
    "    # e.g. \"Accuracy\", \"ROC\", \"Kappa\", \"RMSE\", \"MAE\", \"Mean_F1\"\n",
    "  \n",
    "  #^ if we want to do a grid search of hyperparams\n",
    "  tuneGrid = poly3d_grid\n",
    ")\n",
    "train_pred = predict(svm_poly3d, newdata = rp_wide)\n",
    "confusionMatrix(\n",
    "  data      = train_pred,\n",
    "  reference = rp_wide$source\n",
    ")"
   ]
  },
  {
   "cell_type": "markdown",
   "metadata": {},
   "source": [
    "Radial:"
   ]
  },
  {
   "cell_type": "code",
   "execution_count": 48,
   "metadata": {
    "vscode": {
     "languageId": "r"
    }
   },
   "outputs": [
    {
     "name": "stderr",
     "output_type": "stream",
     "text": [
      "Warning message in nominalTrainWorkflow(x = x, y = y, wts = weights, info = trainInfo, :\n",
      "\"There were missing values in resampled performance measures.\"\n"
     ]
    },
    {
     "data": {
      "text/plain": [
       "Confusion Matrix and Statistics\n",
       "\n",
       "                Reference\n",
       "Prediction       gpt3.5 gpt4.1 gpt4.1_ashuman human\n",
       "  gpt3.5            200      0              0     0\n",
       "  gpt4.1              0    191              4     0\n",
       "  gpt4.1_ashuman      0      9            196     3\n",
       "  human               0      0              0   197\n",
       "\n",
       "Overall Statistics\n",
       "                                          \n",
       "               Accuracy : 0.98            \n",
       "                 95% CI : (0.9677, 0.9885)\n",
       "    No Information Rate : 0.25            \n",
       "    P-Value [Acc > NIR] : < 2.2e-16       \n",
       "                                          \n",
       "                  Kappa : 0.9733          \n",
       "                                          \n",
       " Mcnemar's Test P-Value : NA              \n",
       "\n",
       "Statistics by Class:\n",
       "\n",
       "                     Class: gpt3.5 Class: gpt4.1 Class: gpt4.1_ashuman\n",
       "Sensitivity                   1.00        0.9550                0.9800\n",
       "Specificity                   1.00        0.9933                0.9800\n",
       "Pos Pred Value                1.00        0.9795                0.9423\n",
       "Neg Pred Value                1.00        0.9851                0.9932\n",
       "Prevalence                    0.25        0.2500                0.2500\n",
       "Detection Rate                0.25        0.2387                0.2450\n",
       "Detection Prevalence          0.25        0.2437                0.2600\n",
       "Balanced Accuracy             1.00        0.9742                0.9800\n",
       "                     Class: human\n",
       "Sensitivity                0.9850\n",
       "Specificity                1.0000\n",
       "Pos Pred Value             1.0000\n",
       "Neg Pred Value             0.9950\n",
       "Prevalence                 0.2500\n",
       "Detection Rate             0.2462\n",
       "Detection Prevalence       0.2462\n",
       "Balanced Accuracy          0.9925"
      ]
     },
     "metadata": {},
     "output_type": "display_data"
    }
   ],
   "source": [
    "# modified GPT code again\n",
    "# also https://rpubs.com/uky994/593668\n",
    "\n",
    "set.seed(123)\n",
    "\n",
    "rp_wide = rp_wide |> mutate(source = factor(source))\n",
    "\n",
    "radial_grid <- expand.grid(\n",
    "  sigma = 2^seq(-10, 5, by = 4),\n",
    "  C     = c(1, 2, 5)\n",
    ")\n",
    "\n",
    "svm_radial = train(\n",
    "  source ~ . - id,\n",
    "  data       = rp_wide,\n",
    "  method     = \"svmRadial\",\n",
    "  preProcess = c(\"nzv\", \"center\", \"scale\", \"corr\"), #, \"pca\"),\n",
    "    # nzv: ignore near zero values (this happens because we're doing a fold/split of the dataset)\n",
    "    # center: center s.t. each value has mean 0\n",
    "    # scale: divide all values by std\n",
    "    # corr: remove predictors that are too highly correlated\n",
    "    # pca: run PCA and replace word counts with top components\n",
    "  \n",
    "  trControl  = trainControl(\n",
    "    method          = \"cv\", # how to resample, e.g. (CV, bootstrap, repeated CV, LOOCV, etc.)\n",
    "    number          = 5, # number of resampling iterations, e.g. 5 -> split into 5 folds, use 4 for training 1 for test\n",
    "    classProbs      = TRUE,\n",
    "    summaryFunction = multiClassSummary, # multiClassSummary() returns a bunch of metrics:\n",
    "                                         #   \"logLoss\", \"Mean_F1\", \"Mean_Sensitivity\", \"Mean_Specificity\", \"Accuracy\", \"Kappa\"\n",
    "    savePredictions = \"final\",\n",
    "  ),\n",
    "\n",
    "  metric = \"Accuracy\",\n",
    "    # Which performance metric to optimize when tuning, \n",
    "    # e.g. \"Accuracy\", \"ROC\", \"Kappa\", \"RMSE\", \"MAE\", \"Mean_F1\"\n",
    "  \n",
    "  #^ if we want to do a grid search of hyperparams\n",
    "  tuneGrid = radial_grid\n",
    ")\n",
    "\n",
    "train_pred = predict(svm_radial, newdata = rp_wide)\n",
    "confusionMatrix(\n",
    "  data      = train_pred,\n",
    "  reference = rp_wide$source\n",
    ")"
   ]
  },
  {
   "cell_type": "markdown",
   "metadata": {},
   "source": [
    "### Conclusion:"
   ]
  },
  {
   "cell_type": "markdown",
   "metadata": {},
   "source": [
    "Using just a linear kernel, our model reaches 95.6% accuracy, which is great. It is interesting to note that the model learned how to distinguish GPT3.5 writing with 100% accuracy, only mistakes the 4.1 generated text for the other prompted 4.1 generated text, and almost only mistakes human text for 4.1 specifically prompted to write like a human. This reveals a two primary findings:\n",
    "- LLM generated text does use distinguishably different vocabularies than humans\n",
    "- When prompted to write like a human, the GPT4.1 does seem to achieve a more human-like vocabulary, but not to any significant degree\n",
    "\n",
    "The 2d polynomial kernel shows similar relationships in terms of directional errors and mis-classifications as well as a marginal improvment in overall accuracy.\n",
    "\n",
    "The 3d polynomial kernel actually has worse accuracy than the linear. This could be in part to some minor overfitting, which is probable considering how well the data is modelable using only a linear kernel.\n",
    "\n",
    "The radial kernel reached all the way to 98% accuracy, signifying the extent of the distinctiveness of the vocabularies of each generation method in that it can be modeled so well."
   ]
  },
  {
   "cell_type": "markdown",
   "metadata": {},
   "source": [
    "Moving forward, we have to keep in mind that both improving models and smart prompting threaten the current results we observed. As GPT models evolve, their writing style will likely improve and they may be able to better handle creative prompts to disguise writing as human, masking the clues our SVM model looks for. Looking ahead, if we wanted to replicate this project we would need to consider a wider range of prompts and experiment with new features, such as larger training sets and different tuning parameters."
   ]
  }
 ],
 "metadata": {
  "kernelspec": {
   "display_name": "R",
   "language": "R",
   "name": "ir"
  },
  "language_info": {
   "codemirror_mode": "r",
   "file_extension": ".r",
   "mimetype": "text/x-r-source",
   "name": "R",
   "pygments_lexer": "r",
   "version": "4.4.2"
  }
 },
 "nbformat": 4,
 "nbformat_minor": 2
}
